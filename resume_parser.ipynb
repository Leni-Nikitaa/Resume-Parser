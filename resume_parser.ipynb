{
  "nbformat": 4,
  "nbformat_minor": 0,
  "metadata": {
    "colab": {
      "provenance": [],
      "authorship_tag": "ABX9TyMdPD9xPqHUhoDx5OQ54sOw",
      "include_colab_link": true
    },
    "kernelspec": {
      "name": "python3",
      "display_name": "Python 3"
    },
    "language_info": {
      "name": "python"
    }
  },
  "cells": [
    {
      "cell_type": "markdown",
      "metadata": {
        "id": "view-in-github",
        "colab_type": "text"
      },
      "source": [
        "<a href=\"https://colab.research.google.com/github/Leni-Nikitaa/Resume-Parser/blob/main/resume_parser.ipynb\" target=\"_parent\"><img src=\"https://colab.research.google.com/assets/colab-badge.svg\" alt=\"Open In Colab\"/></a>"
      ]
    },
    {
      "cell_type": "code",
      "source": [
        "!pip install openai==0.28"
      ],
      "metadata": {
        "colab": {
          "base_uri": "https://localhost:8080/"
        },
        "id": "8qr7xSCbNvLw",
        "outputId": "c1f21610-d2ce-48ce-e05a-fa2fd54e3114"
      },
      "execution_count": null,
      "outputs": [
        {
          "output_type": "stream",
          "name": "stdout",
          "text": [
            "Collecting openai==0.28\n",
            "  Downloading openai-0.28.0-py3-none-any.whl (76 kB)\n",
            "\u001b[2K     \u001b[90m━━━━━━━━━━━━━━━━━━━━━━━━━━━━━━━━━━━━━━━━\u001b[0m \u001b[32m76.5/76.5 kB\u001b[0m \u001b[31m964.1 kB/s\u001b[0m eta \u001b[36m0:00:00\u001b[0m\n",
            "\u001b[?25hRequirement already satisfied: requests>=2.20 in /usr/local/lib/python3.10/dist-packages (from openai==0.28) (2.31.0)\n",
            "Requirement already satisfied: tqdm in /usr/local/lib/python3.10/dist-packages (from openai==0.28) (4.66.4)\n",
            "Requirement already satisfied: aiohttp in /usr/local/lib/python3.10/dist-packages (from openai==0.28) (3.9.5)\n",
            "Requirement already satisfied: charset-normalizer<4,>=2 in /usr/local/lib/python3.10/dist-packages (from requests>=2.20->openai==0.28) (3.3.2)\n",
            "Requirement already satisfied: idna<4,>=2.5 in /usr/local/lib/python3.10/dist-packages (from requests>=2.20->openai==0.28) (3.7)\n",
            "Requirement already satisfied: urllib3<3,>=1.21.1 in /usr/local/lib/python3.10/dist-packages (from requests>=2.20->openai==0.28) (2.0.7)\n",
            "Requirement already satisfied: certifi>=2017.4.17 in /usr/local/lib/python3.10/dist-packages (from requests>=2.20->openai==0.28) (2024.6.2)\n",
            "Requirement already satisfied: aiosignal>=1.1.2 in /usr/local/lib/python3.10/dist-packages (from aiohttp->openai==0.28) (1.3.1)\n",
            "Requirement already satisfied: attrs>=17.3.0 in /usr/local/lib/python3.10/dist-packages (from aiohttp->openai==0.28) (23.2.0)\n",
            "Requirement already satisfied: frozenlist>=1.1.1 in /usr/local/lib/python3.10/dist-packages (from aiohttp->openai==0.28) (1.4.1)\n",
            "Requirement already satisfied: multidict<7.0,>=4.5 in /usr/local/lib/python3.10/dist-packages (from aiohttp->openai==0.28) (6.0.5)\n",
            "Requirement already satisfied: yarl<2.0,>=1.0 in /usr/local/lib/python3.10/dist-packages (from aiohttp->openai==0.28) (1.9.4)\n",
            "Requirement already satisfied: async-timeout<5.0,>=4.0 in /usr/local/lib/python3.10/dist-packages (from aiohttp->openai==0.28) (4.0.3)\n",
            "Installing collected packages: openai\n",
            "Successfully installed openai-0.28.0\n"
          ]
        }
      ]
    },
    {
      "cell_type": "code",
      "source": [
        "import openai\n",
        "import time\n",
        "\n",
        "openai.api_key = 'openapikey' #insert your key for working\n",
        "def parse_resume(resume_text):\n",
        "    prompt = f\"\"\"\n",
        "    Extract the following details from the given resume and provide them in JSON format:\n",
        "\n",
        "    1. Full Name\n",
        "    2. Contact Information (Email, Phone Number)\n",
        "    3. Education (Degree, University, Graduation Year)\n",
        "    4. Work Experience (Company, Job Title, Start Date, End Date, Responsibilities)\n",
        "    5. Skills\n",
        "    6. Projects (Project Title, Description, Technologies Used, Link)\n",
        "    7. Certifications\n",
        "\n",
        "    Resume:\n",
        "    \\\"\\\"\\\"\n",
        "    {resume_text}\n",
        "    \\\"\\\"\\\"\n",
        "    \"\"\"\n",
        "\n",
        "    response = openai.ChatCompletion.create(\n",
        "        model=\"gpt-3.5-turbo\",\n",
        "        messages=[\n",
        "            {\"role\": \"system\", \"content\": \"You are a helpful assistant.\"},\n",
        "            {\"role\": \"user\", \"content\": prompt}\n",
        "        ]\n",
        "    )\n",
        "\n",
        "    return response['choices'][0]['message']['content']\n",
        "resume_text = \"\"\"\n",
        "Leni Nikitaa\n",
        "Email: ls0585@srmist.edu.in\n",
        "Phone: 123-456-7890\n",
        "\n",
        "Education:\n",
        "B.Tech in Artificial Intelligence, SRM Institute of Science and Technology, 2025\n",
        "\n",
        "Work Experience:\n",
        "Intern at ABC Corp, AI Developer, 06/2023 - 12/2023\n",
        "- Developed NLP models for sentiment analysis\n",
        "- Worked on predictive modeling using Python and TensorFlow\n",
        "\n",
        "Skills:\n",
        "Python, Machine Learning, NLP, TensorFlow, Keras\n",
        "\n",
        "Projects:\n",
        "TweetFeels - Sentiment Analysis Tool for Tweets\n",
        "- Built using Python and NLP techniques\n",
        "- Link: https://github.com/Leni-Nikitaa/TweetFeels-Sentimental-Analysis-Tool-for-Tweets\n",
        "\n",
        "Certifications:\n",
        "Certified Machine Learning Specialist\n",
        "\"\"\"\n",
        "parsed_json = parse_resume(resume_text)\n",
        "print(parsed_json)\n",
        "time.sleep(5)"
      ],
      "metadata": {
        "id": "suq7DOaXOLIl"
      },
      "execution_count": null,
      "outputs": []
    }
  ]
}